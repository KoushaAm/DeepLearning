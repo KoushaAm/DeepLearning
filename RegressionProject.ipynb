{
  "nbformat": 4,
  "nbformat_minor": 0,
  "metadata": {
    "colab": {
      "provenance": [],
      "authorship_tag": "ABX9TyPDclv8TsnCJqEOlTHevvVu",
      "include_colab_link": true
    },
    "kernelspec": {
      "name": "python3",
      "display_name": "Python 3"
    },
    "language_info": {
      "name": "python"
    }
  },
  "cells": [
    {
      "cell_type": "markdown",
      "metadata": {
        "id": "view-in-github",
        "colab_type": "text"
      },
      "source": [
        "<a href=\"https://colab.research.google.com/github/KoushaAm/MachineLearning/blob/main/RegressionProject.ipynb\" target=\"_parent\"><img src=\"https://colab.research.google.com/assets/colab-badge.svg\" alt=\"Open In Colab\"/></a>"
      ]
    },
    {
      "cell_type": "markdown",
      "source": [
        "\n",
        "# Regression Project"
      ],
      "metadata": {
        "id": "L6mzpAhANbQ_"
      }
    },
    {
      "cell_type": "code",
      "source": [
        "import tensorflow as tf\n",
        "import pandas as pd\n",
        "import matplotlib.pyplot as plt"
      ],
      "metadata": {
        "id": "AJ2dG1zYNhyL"
      },
      "execution_count": null,
      "outputs": []
    },
    {
      "cell_type": "code",
      "source": [
        "data = pd.read_csv(\"WineQT.csv\")\n",
        "data.head()"
      ],
      "metadata": {
        "colab": {
          "base_uri": "https://localhost:8080/",
          "height": 214
        },
        "id": "PZeFUVoGNyHN",
        "outputId": "352155ab-aaf0-4ad5-baa6-dbe5e9e7f14d"
      },
      "execution_count": null,
      "outputs": [
        {
          "output_type": "execute_result",
          "data": {
            "text/plain": [
              "   fixed acidity  volatile acidity  citric acid  residual sugar  chlorides  \\\n",
              "0            7.4              0.70         0.00             1.9      0.076   \n",
              "1            7.8              0.88         0.00             2.6      0.098   \n",
              "2            7.8              0.76         0.04             2.3      0.092   \n",
              "3           11.2              0.28         0.56             1.9      0.075   \n",
              "4            7.4              0.70         0.00             1.9      0.076   \n",
              "\n",
              "   free sulfur dioxide  total sulfur dioxide  density    pH  sulphates  \\\n",
              "0                 11.0                  34.0   0.9978  3.51       0.56   \n",
              "1                 25.0                  67.0   0.9968  3.20       0.68   \n",
              "2                 15.0                  54.0   0.9970  3.26       0.65   \n",
              "3                 17.0                  60.0   0.9980  3.16       0.58   \n",
              "4                 11.0                  34.0   0.9978  3.51       0.56   \n",
              "\n",
              "   alcohol  quality  Id  \n",
              "0      9.4        5   0  \n",
              "1      9.8        5   1  \n",
              "2      9.8        5   2  \n",
              "3      9.8        6   3  \n",
              "4      9.4        5   4  "
            ],
            "text/html": [
              "\n",
              "  <div id=\"df-fa5a537a-94cf-4f4c-9fe0-c8a73fca3f0a\">\n",
              "    <div class=\"colab-df-container\">\n",
              "      <div>\n",
              "<style scoped>\n",
              "    .dataframe tbody tr th:only-of-type {\n",
              "        vertical-align: middle;\n",
              "    }\n",
              "\n",
              "    .dataframe tbody tr th {\n",
              "        vertical-align: top;\n",
              "    }\n",
              "\n",
              "    .dataframe thead th {\n",
              "        text-align: right;\n",
              "    }\n",
              "</style>\n",
              "<table border=\"1\" class=\"dataframe\">\n",
              "  <thead>\n",
              "    <tr style=\"text-align: right;\">\n",
              "      <th></th>\n",
              "      <th>fixed acidity</th>\n",
              "      <th>volatile acidity</th>\n",
              "      <th>citric acid</th>\n",
              "      <th>residual sugar</th>\n",
              "      <th>chlorides</th>\n",
              "      <th>free sulfur dioxide</th>\n",
              "      <th>total sulfur dioxide</th>\n",
              "      <th>density</th>\n",
              "      <th>pH</th>\n",
              "      <th>sulphates</th>\n",
              "      <th>alcohol</th>\n",
              "      <th>quality</th>\n",
              "      <th>Id</th>\n",
              "    </tr>\n",
              "  </thead>\n",
              "  <tbody>\n",
              "    <tr>\n",
              "      <th>0</th>\n",
              "      <td>7.4</td>\n",
              "      <td>0.70</td>\n",
              "      <td>0.00</td>\n",
              "      <td>1.9</td>\n",
              "      <td>0.076</td>\n",
              "      <td>11.0</td>\n",
              "      <td>34.0</td>\n",
              "      <td>0.9978</td>\n",
              "      <td>3.51</td>\n",
              "      <td>0.56</td>\n",
              "      <td>9.4</td>\n",
              "      <td>5</td>\n",
              "      <td>0</td>\n",
              "    </tr>\n",
              "    <tr>\n",
              "      <th>1</th>\n",
              "      <td>7.8</td>\n",
              "      <td>0.88</td>\n",
              "      <td>0.00</td>\n",
              "      <td>2.6</td>\n",
              "      <td>0.098</td>\n",
              "      <td>25.0</td>\n",
              "      <td>67.0</td>\n",
              "      <td>0.9968</td>\n",
              "      <td>3.20</td>\n",
              "      <td>0.68</td>\n",
              "      <td>9.8</td>\n",
              "      <td>5</td>\n",
              "      <td>1</td>\n",
              "    </tr>\n",
              "    <tr>\n",
              "      <th>2</th>\n",
              "      <td>7.8</td>\n",
              "      <td>0.76</td>\n",
              "      <td>0.04</td>\n",
              "      <td>2.3</td>\n",
              "      <td>0.092</td>\n",
              "      <td>15.0</td>\n",
              "      <td>54.0</td>\n",
              "      <td>0.9970</td>\n",
              "      <td>3.26</td>\n",
              "      <td>0.65</td>\n",
              "      <td>9.8</td>\n",
              "      <td>5</td>\n",
              "      <td>2</td>\n",
              "    </tr>\n",
              "    <tr>\n",
              "      <th>3</th>\n",
              "      <td>11.2</td>\n",
              "      <td>0.28</td>\n",
              "      <td>0.56</td>\n",
              "      <td>1.9</td>\n",
              "      <td>0.075</td>\n",
              "      <td>17.0</td>\n",
              "      <td>60.0</td>\n",
              "      <td>0.9980</td>\n",
              "      <td>3.16</td>\n",
              "      <td>0.58</td>\n",
              "      <td>9.8</td>\n",
              "      <td>6</td>\n",
              "      <td>3</td>\n",
              "    </tr>\n",
              "    <tr>\n",
              "      <th>4</th>\n",
              "      <td>7.4</td>\n",
              "      <td>0.70</td>\n",
              "      <td>0.00</td>\n",
              "      <td>1.9</td>\n",
              "      <td>0.076</td>\n",
              "      <td>11.0</td>\n",
              "      <td>34.0</td>\n",
              "      <td>0.9978</td>\n",
              "      <td>3.51</td>\n",
              "      <td>0.56</td>\n",
              "      <td>9.4</td>\n",
              "      <td>5</td>\n",
              "      <td>4</td>\n",
              "    </tr>\n",
              "  </tbody>\n",
              "</table>\n",
              "</div>\n",
              "      <button class=\"colab-df-convert\" onclick=\"convertToInteractive('df-fa5a537a-94cf-4f4c-9fe0-c8a73fca3f0a')\"\n",
              "              title=\"Convert this dataframe to an interactive table.\"\n",
              "              style=\"display:none;\">\n",
              "        \n",
              "  <svg xmlns=\"http://www.w3.org/2000/svg\" height=\"24px\"viewBox=\"0 0 24 24\"\n",
              "       width=\"24px\">\n",
              "    <path d=\"M0 0h24v24H0V0z\" fill=\"none\"/>\n",
              "    <path d=\"M18.56 5.44l.94 2.06.94-2.06 2.06-.94-2.06-.94-.94-2.06-.94 2.06-2.06.94zm-11 1L8.5 8.5l.94-2.06 2.06-.94-2.06-.94L8.5 2.5l-.94 2.06-2.06.94zm10 10l.94 2.06.94-2.06 2.06-.94-2.06-.94-.94-2.06-.94 2.06-2.06.94z\"/><path d=\"M17.41 7.96l-1.37-1.37c-.4-.4-.92-.59-1.43-.59-.52 0-1.04.2-1.43.59L10.3 9.45l-7.72 7.72c-.78.78-.78 2.05 0 2.83L4 21.41c.39.39.9.59 1.41.59.51 0 1.02-.2 1.41-.59l7.78-7.78 2.81-2.81c.8-.78.8-2.07 0-2.86zM5.41 20L4 18.59l7.72-7.72 1.47 1.35L5.41 20z\"/>\n",
              "  </svg>\n",
              "      </button>\n",
              "      \n",
              "  <style>\n",
              "    .colab-df-container {\n",
              "      display:flex;\n",
              "      flex-wrap:wrap;\n",
              "      gap: 12px;\n",
              "    }\n",
              "\n",
              "    .colab-df-convert {\n",
              "      background-color: #E8F0FE;\n",
              "      border: none;\n",
              "      border-radius: 50%;\n",
              "      cursor: pointer;\n",
              "      display: none;\n",
              "      fill: #1967D2;\n",
              "      height: 32px;\n",
              "      padding: 0 0 0 0;\n",
              "      width: 32px;\n",
              "    }\n",
              "\n",
              "    .colab-df-convert:hover {\n",
              "      background-color: #E2EBFA;\n",
              "      box-shadow: 0px 1px 2px rgba(60, 64, 67, 0.3), 0px 1px 3px 1px rgba(60, 64, 67, 0.15);\n",
              "      fill: #174EA6;\n",
              "    }\n",
              "\n",
              "    [theme=dark] .colab-df-convert {\n",
              "      background-color: #3B4455;\n",
              "      fill: #D2E3FC;\n",
              "    }\n",
              "\n",
              "    [theme=dark] .colab-df-convert:hover {\n",
              "      background-color: #434B5C;\n",
              "      box-shadow: 0px 1px 3px 1px rgba(0, 0, 0, 0.15);\n",
              "      filter: drop-shadow(0px 1px 2px rgba(0, 0, 0, 0.3));\n",
              "      fill: #FFFFFF;\n",
              "    }\n",
              "  </style>\n",
              "\n",
              "      <script>\n",
              "        const buttonEl =\n",
              "          document.querySelector('#df-fa5a537a-94cf-4f4c-9fe0-c8a73fca3f0a button.colab-df-convert');\n",
              "        buttonEl.style.display =\n",
              "          google.colab.kernel.accessAllowed ? 'block' : 'none';\n",
              "\n",
              "        async function convertToInteractive(key) {\n",
              "          const element = document.querySelector('#df-fa5a537a-94cf-4f4c-9fe0-c8a73fca3f0a');\n",
              "          const dataTable =\n",
              "            await google.colab.kernel.invokeFunction('convertToInteractive',\n",
              "                                                     [key], {});\n",
              "          if (!dataTable) return;\n",
              "\n",
              "          const docLinkHtml = 'Like what you see? Visit the ' +\n",
              "            '<a target=\"_blank\" href=https://colab.research.google.com/notebooks/data_table.ipynb>data table notebook</a>'\n",
              "            + ' to learn more about interactive tables.';\n",
              "          element.innerHTML = '';\n",
              "          dataTable['output_type'] = 'display_data';\n",
              "          await google.colab.output.renderOutput(dataTable, element);\n",
              "          const docLink = document.createElement('div');\n",
              "          docLink.innerHTML = docLinkHtml;\n",
              "          element.appendChild(docLink);\n",
              "        }\n",
              "      </script>\n",
              "    </div>\n",
              "  </div>\n",
              "  "
            ]
          },
          "metadata": {},
          "execution_count": 6
        }
      ]
    },
    {
      "cell_type": "code",
      "source": [
        "x = data['citric acid']\n",
        "y = data['pH']\n",
        "\n",
        "len(x)"
      ],
      "metadata": {
        "colab": {
          "base_uri": "https://localhost:8080/"
        },
        "id": "cTIgZopYUcZQ",
        "outputId": "26b0de89-c6e7-49a7-bf7d-8cb5d487034c"
      },
      "execution_count": null,
      "outputs": [
        {
          "output_type": "execute_result",
          "data": {
            "text/plain": [
              "1143"
            ]
          },
          "metadata": {},
          "execution_count": 28
        }
      ]
    },
    {
      "cell_type": "code",
      "source": [
        "plt.scatter(x,y)\n",
        "\n",
        "plt.xlabel(\"citric acid\")\n",
        "plt.ylabel(\"pH\")\n",
        "plt.title(\"pH vs sugar\")\n",
        "\n",
        "\n",
        "plt.show()"
      ],
      "metadata": {
        "colab": {
          "base_uri": "https://localhost:8080/",
          "height": 472
        },
        "id": "_389qTbcU_ba",
        "outputId": "5a09e511-98cf-4033-bc4f-f6f66978db86"
      },
      "execution_count": null,
      "outputs": [
        {
          "output_type": "display_data",
          "data": {
            "text/plain": [
              "<Figure size 640x480 with 1 Axes>"
            ],
            "image/png": "[encoded data removed]"
          },
          "metadata": {}
        }
      ]
    },
    {
      "cell_type": "code",
      "source": [
        "from sklearn.model_selection import train_test_split\n",
        "\n",
        "\n",
        "#initilize the x y train/test\n",
        "x_train, x_test, y_train, y_test = train_test_split(x, y, test_size = 0.7, random_state=42)\n"
      ],
      "metadata": {
        "id": "IZyOdCtxWEj1"
      },
      "execution_count": null,
      "outputs": []
    },
    {
      "cell_type": "code",
      "source": [
        "tf.random.set_seed(42)\n",
        "\n",
        "model1 = tf.keras.Sequential([\n",
        "    tf.keras.layers.Dense(100),\n",
        "    tf.keras.layers.Dense(10),\n",
        "    tf.keras.layers.Dense(1)\n",
        "])\n",
        "\n",
        "model1.compile(loss = tf.keras.losses.mae, \n",
        "              optimizer = tf.keras.optimizers.SGD(), \n",
        "              metrics = ['mae'])\n",
        "\n",
        "\n",
        "history = model1.fit(x_train, y_train, epochs = 200, verbose = 0 )\n"
      ],
      "metadata": {
        "id": "vUwa-GqEWvBK"
      },
      "execution_count": null,
      "outputs": []
    },
    {
      "cell_type": "code",
      "source": [
        "test1 = model1.evaluate(x_test, y_test)"
      ],
      "metadata": {
        "colab": {
          "base_uri": "https://localhost:8080/"
        },
        "id": "JAOHr_yqYKR1",
        "outputId": "b80460d7-cd69-4d91-dd37-fd25d02c0791"
      },
      "execution_count": null,
      "outputs": [
        {
          "output_type": "stream",
          "name": "stdout",
          "text": [
            "26/26 [==============================] - 0s 3ms/step - loss: 0.1105 - mae: 0.1105\n"
          ]
        }
      ]
    },
    {
      "cell_type": "code",
      "source": [
        "pd.DataFrame(history.history).plot()\n",
        "\n",
        "plt.ylabel('loss')\n",
        "plt.xlabel('epoch')"
      ],
      "metadata": {
        "colab": {
          "base_uri": "https://localhost:8080/",
          "height": 467
        },
        "id": "txI7fKKKYbk2",
        "outputId": "014330e7-d87a-440f-d0fb-8866e7b10efa"
      },
      "execution_count": null,
      "outputs": [
        {
          "output_type": "execute_result",
          "data": {
            "text/plain": [
              "Text(0.5, 0, 'epoch')"
            ]
          },
          "metadata": {},
          "execution_count": 38
        },
        {
          "output_type": "display_data",
          "data": {
            "text/plain": [
              "<Figure size 640x480 with 1 Axes>"
            ],
            "image/png": "[encoded data removed]"
          },
          "metadata": {}
        }
      ]
    },
    {
      "cell_type": "code",
      "source": [
        "# model 2 additional layer and Adam optimizer\n",
        "\n",
        "tf.random.set_seed(42)\n",
        "\n",
        "model2 = tf.keras.Sequential([\n",
        "    tf.keras.layers.Dense(100),\n",
        "    tf.keras.layers.Dense(20), \n",
        "    tf.keras.layers.Dense(5), \n",
        "    tf.keras.layers.Dense(1)\n",
        "])\n",
        "\n",
        "model2.compile(loss = tf.keras.losses.mae, \n",
        "              optimizer = tf.keras.optimizers.Adam(), \n",
        "              metrics = ['mae'])\n",
        "\n",
        "progression = model2.fit(x_train, y_train, epochs = 100)\n"
      ],
      "metadata": {
        "colab": {
          "base_uri": "https://localhost:8080/"
        },
        "id": "euYjs6iHYnFD",
        "outputId": "ab70313c-f214-4f76-d2ee-2cbd1d658a01"
      },
      "execution_count": null,
      "outputs": [
        {
          "output_type": "stream",
          "name": "stdout",
          "text": [
            "Epoch 1/100\n",
            "11/11 [==============================] - 1s 3ms/step - loss: 3.1178 - mae: 3.1178\n",
            "Epoch 2/100\n",
            "11/11 [==============================] - 0s 3ms/step - loss: 2.6361 - mae: 2.6361\n",
            "Epoch 3/100\n",
            "11/11 [==============================] - 0s 3ms/step - loss: 1.9617 - mae: 1.9617\n",
            "Epoch 4/100\n",
            "11/11 [==============================] - 0s 2ms/step - loss: 1.0920 - mae: 1.0920\n",
            "Epoch 5/100\n",
            "11/11 [==============================] - 0s 2ms/step - loss: 0.8723 - mae: 0.8723\n",
            "Epoch 6/100\n",
            "11/11 [==============================] - 0s 3ms/step - loss: 0.7591 - mae: 0.7591\n",
            "Epoch 7/100\n",
            "11/11 [==============================] - 0s 2ms/step - loss: 0.6511 - mae: 0.6511\n",
            "Epoch 8/100\n",
            "11/11 [==============================] - 0s 2ms/step - loss: 0.5413 - mae: 0.5413\n",
            "Epoch 9/100\n",
            "11/11 [==============================] - 0s 2ms/step - loss: 0.4277 - mae: 0.4277\n",
            "Epoch 10/100\n",
            "11/11 [==============================] - 0s 3ms/step - loss: 0.3078 - mae: 0.3078\n",
            "Epoch 11/100\n",
            "11/11 [==============================] - 0s 3ms/step - loss: 0.1884 - mae: 0.1884\n",
            "Epoch 12/100\n",
            "11/11 [==============================] - 0s 4ms/step - loss: 0.1062 - mae: 0.1062\n",
            "Epoch 13/100\n",
            "11/11 [==============================] - 0s 4ms/step - loss: 0.1132 - mae: 0.1132\n",
            "Epoch 14/100\n",
            "11/11 [==============================] - 0s 4ms/step - loss: 0.1113 - mae: 0.1113\n",
            "Epoch 15/100\n",
            "11/11 [==============================] - 0s 4ms/step - loss: 0.1012 - mae: 0.1012\n",
            "Epoch 16/100\n",
            "11/11 [==============================] - 0s 4ms/step - loss: 0.0997 - mae: 0.0997\n",
            "Epoch 17/100\n",
            "11/11 [==============================] - 0s 3ms/step - loss: 0.0996 - mae: 0.0996\n",
            "Epoch 18/100\n",
            "11/11 [==============================] - 0s 4ms/step - loss: 0.1010 - mae: 0.1010\n",
            "Epoch 19/100\n",
            "11/11 [==============================] - 0s 3ms/step - loss: 0.1044 - mae: 0.1044\n",
            "Epoch 20/100\n",
            "11/11 [==============================] - 0s 4ms/step - loss: 0.1013 - mae: 0.1013\n",
            "Epoch 21/100\n",
            "11/11 [==============================] - 0s 4ms/step - loss: 0.0995 - mae: 0.0995\n",
            "Epoch 22/100\n",
            "11/11 [==============================] - 0s 4ms/step - loss: 0.0999 - mae: 0.0999\n",
            "Epoch 23/100\n",
            "11/11 [==============================] - 0s 4ms/step - loss: 0.1012 - mae: 0.1012\n",
            "Epoch 24/100\n",
            "11/11 [==============================] - 0s 3ms/step - loss: 0.0997 - mae: 0.0997\n",
            "Epoch 25/100\n",
            "11/11 [==============================] - 0s 3ms/step - loss: 0.1001 - mae: 0.1001\n",
            "Epoch 26/100\n",
            "11/11 [==============================] - 0s 3ms/step - loss: 0.0998 - mae: 0.0998\n",
            "Epoch 27/100\n",
            "11/11 [==============================] - 0s 4ms/step - loss: 0.1041 - mae: 0.1041\n",
            "Epoch 28/100\n",
            "11/11 [==============================] - 0s 5ms/step - loss: 0.1026 - mae: 0.1026\n",
            "Epoch 29/100\n",
            "11/11 [==============================] - 0s 3ms/step - loss: 0.0998 - mae: 0.0998\n",
            "Epoch 30/100\n",
            "11/11 [==============================] - 0s 3ms/step - loss: 0.1011 - mae: 0.1011\n",
            "Epoch 31/100\n",
            "11/11 [==============================] - 0s 3ms/step - loss: 0.0994 - mae: 0.0994\n",
            "Epoch 32/100\n",
            "11/11 [==============================] - 0s 3ms/step - loss: 0.1003 - mae: 0.1003\n",
            "Epoch 33/100\n",
            "11/11 [==============================] - 0s 3ms/step - loss: 0.1025 - mae: 0.1025\n",
            "Epoch 34/100\n",
            "11/11 [==============================] - 0s 3ms/step - loss: 0.0999 - mae: 0.0999\n",
            "Epoch 35/100\n",
            "11/11 [==============================] - 0s 3ms/step - loss: 0.1008 - mae: 0.1008\n",
            "Epoch 36/100\n",
            "11/11 [==============================] - 0s 4ms/step - loss: 0.1024 - mae: 0.1024\n",
            "Epoch 37/100\n",
            "11/11 [==============================] - 0s 4ms/step - loss: 0.1025 - mae: 0.1025\n",
            "Epoch 38/100\n",
            "11/11 [==============================] - 0s 3ms/step - loss: 0.1028 - mae: 0.1028\n",
            "Epoch 39/100\n",
            "11/11 [==============================] - 0s 3ms/step - loss: 0.1101 - mae: 0.1101\n",
            "Epoch 40/100\n",
            "11/11 [==============================] - 0s 3ms/step - loss: 0.1068 - mae: 0.1068\n",
            "Epoch 41/100\n",
            "11/11 [==============================] - 0s 3ms/step - loss: 0.1124 - mae: 0.1124\n",
            "Epoch 42/100\n",
            "11/11 [==============================] - 0s 3ms/step - loss: 0.1091 - mae: 0.1091\n",
            "Epoch 43/100\n",
            "11/11 [==============================] - 0s 3ms/step - loss: 0.1045 - mae: 0.1045\n",
            "Epoch 44/100\n",
            "11/11 [==============================] - 0s 3ms/step - loss: 0.0998 - mae: 0.0998\n",
            "Epoch 45/100\n",
            "11/11 [==============================] - 0s 3ms/step - loss: 0.1012 - mae: 0.1012\n",
            "Epoch 46/100\n",
            "11/11 [==============================] - 0s 3ms/step - loss: 0.1044 - mae: 0.1044\n",
            "Epoch 47/100\n",
            "11/11 [==============================] - 0s 3ms/step - loss: 0.1024 - mae: 0.1024\n",
            "Epoch 48/100\n",
            "11/11 [==============================] - 0s 3ms/step - loss: 0.1033 - mae: 0.1033\n",
            "Epoch 49/100\n",
            "11/11 [==============================] - 0s 3ms/step - loss: 0.1028 - mae: 0.1028\n",
            "Epoch 50/100\n",
            "11/11 [==============================] - 0s 3ms/step - loss: 0.1003 - mae: 0.1003\n",
            "Epoch 51/100\n",
            "11/11 [==============================] - 0s 3ms/step - loss: 0.1008 - mae: 0.1008\n",
            "Epoch 52/100\n",
            "11/11 [==============================] - 0s 4ms/step - loss: 0.1032 - mae: 0.1032\n",
            "Epoch 53/100\n",
            "11/11 [==============================] - 0s 3ms/step - loss: 0.1011 - mae: 0.1011\n",
            "Epoch 54/100\n",
            "11/11 [==============================] - 0s 3ms/step - loss: 0.0989 - mae: 0.0989\n",
            "Epoch 55/100\n",
            "11/11 [==============================] - 0s 3ms/step - loss: 0.1008 - mae: 0.1008\n",
            "Epoch 56/100\n",
            "11/11 [==============================] - 0s 3ms/step - loss: 0.1001 - mae: 0.1001\n",
            "Epoch 57/100\n",
            "11/11 [==============================] - 0s 4ms/step - loss: 0.1029 - mae: 0.1029\n",
            "Epoch 58/100\n",
            "11/11 [==============================] - 0s 4ms/step - loss: 0.1049 - mae: 0.1049\n",
            "Epoch 59/100\n",
            "11/11 [==============================] - 0s 4ms/step - loss: 0.1092 - mae: 0.1092\n",
            "Epoch 60/100\n",
            "11/11 [==============================] - 0s 4ms/step - loss: 0.1041 - mae: 0.1041\n",
            "Epoch 61/100\n",
            "11/11 [==============================] - 0s 6ms/step - loss: 0.1085 - mae: 0.1085\n",
            "Epoch 62/100\n",
            "11/11 [==============================] - 0s 5ms/step - loss: 0.1030 - mae: 0.1030\n",
            "Epoch 63/100\n",
            "11/11 [==============================] - 0s 4ms/step - loss: 0.1002 - mae: 0.1002\n",
            "Epoch 64/100\n",
            "11/11 [==============================] - 0s 4ms/step - loss: 0.1001 - mae: 0.1001\n",
            "Epoch 65/100\n",
            "11/11 [==============================] - 0s 4ms/step - loss: 0.0999 - mae: 0.0999\n",
            "Epoch 66/100\n",
            "11/11 [==============================] - 0s 4ms/step - loss: 0.1023 - mae: 0.1023\n",
            "Epoch 67/100\n",
            "11/11 [==============================] - 0s 3ms/step - loss: 0.1051 - mae: 0.1051\n",
            "Epoch 68/100\n",
            "11/11 [==============================] - 0s 3ms/step - loss: 0.1033 - mae: 0.1033\n",
            "Epoch 69/100\n",
            "11/11 [==============================] - 0s 3ms/step - loss: 0.1050 - mae: 0.1050\n",
            "Epoch 70/100\n",
            "11/11 [==============================] - 0s 3ms/step - loss: 0.0983 - mae: 0.0983\n",
            "Epoch 71/100\n",
            "11/11 [==============================] - 0s 4ms/step - loss: 0.1018 - mae: 0.1018\n",
            "Epoch 72/100\n",
            "11/11 [==============================] - 0s 4ms/step - loss: 0.1019 - mae: 0.1019\n",
            "Epoch 73/100\n",
            "11/11 [==============================] - 0s 4ms/step - loss: 0.0992 - mae: 0.0992\n",
            "Epoch 74/100\n",
            "11/11 [==============================] - 0s 4ms/step - loss: 0.1054 - mae: 0.1054\n",
            "Epoch 75/100\n",
            "11/11 [==============================] - 0s 4ms/step - loss: 0.1173 - mae: 0.1173\n",
            "Epoch 76/100\n",
            "11/11 [==============================] - 0s 4ms/step - loss: 0.1075 - mae: 0.1075\n",
            "Epoch 77/100\n",
            "11/11 [==============================] - 0s 4ms/step - loss: 0.1141 - mae: 0.1141\n",
            "Epoch 78/100\n",
            "11/11 [==============================] - 0s 3ms/step - loss: 0.1076 - mae: 0.1076\n",
            "Epoch 79/100\n",
            "11/11 [==============================] - 0s 4ms/step - loss: 0.1032 - mae: 0.1032\n",
            "Epoch 80/100\n",
            "11/11 [==============================] - 0s 4ms/step - loss: 0.0992 - mae: 0.0992\n",
            "Epoch 81/100\n",
            "11/11 [==============================] - 0s 3ms/step - loss: 0.0996 - mae: 0.0996\n",
            "Epoch 82/100\n",
            "11/11 [==============================] - 0s 4ms/step - loss: 0.1055 - mae: 0.1055\n",
            "Epoch 83/100\n",
            "11/11 [==============================] - 0s 3ms/step - loss: 0.1029 - mae: 0.1029\n",
            "Epoch 84/100\n",
            "11/11 [==============================] - 0s 3ms/step - loss: 0.1004 - mae: 0.1004\n",
            "Epoch 85/100\n",
            "11/11 [==============================] - 0s 4ms/step - loss: 0.1027 - mae: 0.1027\n",
            "Epoch 86/100\n",
            "11/11 [==============================] - 0s 3ms/step - loss: 0.1047 - mae: 0.1047\n",
            "Epoch 87/100\n",
            "11/11 [==============================] - 0s 3ms/step - loss: 0.0993 - mae: 0.0993\n",
            "Epoch 88/100\n",
            "11/11 [==============================] - 0s 3ms/step - loss: 0.0994 - mae: 0.0994\n",
            "Epoch 89/100\n",
            "11/11 [==============================] - 0s 3ms/step - loss: 0.0999 - mae: 0.0999\n",
            "Epoch 90/100\n",
            "11/11 [==============================] - 0s 3ms/step - loss: 0.1003 - mae: 0.1003\n",
            "Epoch 91/100\n",
            "11/11 [==============================] - 0s 2ms/step - loss: 0.1004 - mae: 0.1004\n",
            "Epoch 92/100\n",
            "11/11 [==============================] - 0s 3ms/step - loss: 0.0983 - mae: 0.0983\n",
            "Epoch 93/100\n",
            "11/11 [==============================] - 0s 3ms/step - loss: 0.1022 - mae: 0.1022\n",
            "Epoch 94/100\n",
            "11/11 [==============================] - 0s 2ms/step - loss: 0.1047 - mae: 0.1047\n",
            "Epoch 95/100\n",
            "11/11 [==============================] - 0s 3ms/step - loss: 0.1014 - mae: 0.1014\n",
            "Epoch 96/100\n",
            "11/11 [==============================] - 0s 3ms/step - loss: 0.1011 - mae: 0.1011\n",
            "Epoch 97/100\n",
            "11/11 [==============================] - 0s 2ms/step - loss: 0.0993 - mae: 0.0993\n",
            "Epoch 98/100\n",
            "11/11 [==============================] - 0s 2ms/step - loss: 0.1018 - mae: 0.1018\n",
            "Epoch 99/100\n",
            "11/11 [==============================] - 0s 3ms/step - loss: 0.0987 - mae: 0.0987\n",
            "Epoch 100/100\n",
            "11/11 [==============================] - 0s 3ms/step - loss: 0.0998 - mae: 0.0998\n"
          ]
        }
      ]
    },
    {
      "cell_type": "code",
      "source": [
        "test2 = model2.evaluate(x_test, y_test)\n",
        "test2"
      ],
      "metadata": {
        "colab": {
          "base_uri": "https://localhost:8080/"
        },
        "id": "C-U8JFfaZ0dH",
        "outputId": "52bb3308-42ed-44a2-a493-b22611e169e6"
      },
      "execution_count": null,
      "outputs": [
        {
          "output_type": "stream",
          "name": "stdout",
          "text": [
            "26/26 [==============================] - 0s 2ms/step - loss: 0.1033 - mae: 0.1033\n"
          ]
        },
        {
          "output_type": "execute_result",
          "data": {
            "text/plain": [
              "[0.10331585258245468, 0.10331585258245468]"
            ]
          },
          "metadata": {},
          "execution_count": 94
        }
      ]
    },
    {
      "cell_type": "code",
      "source": [
        "pd.DataFrame(progression.history).plot()\n",
        "\n",
        "plt.ylabel('loss')\n",
        "plt.xlabel('epoch')"
      ],
      "metadata": {
        "colab": {
          "base_uri": "https://localhost:8080/",
          "height": 467
        },
        "id": "12UL4-UZcXR3",
        "outputId": "4ae726e0-fbc3-46a3-8d86-05f5eb6bfce6"
      },
      "execution_count": null,
      "outputs": [
        {
          "output_type": "execute_result",
          "data": {
            "text/plain": [
              "Text(0.5, 0, 'epoch')"
            ]
          },
          "metadata": {},
          "execution_count": 95
        },
        {
          "output_type": "display_data",
          "data": {
            "text/plain": [
              "<Figure size 640x480 with 1 Axes>"
            ],
            "image/png": "[encoded data removed]"
          },
          "metadata": {}
        }
      ]
    }
  ]
}